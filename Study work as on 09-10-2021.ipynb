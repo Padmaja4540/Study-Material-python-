{
 "cells": [
  {
   "cell_type": "code",
   "execution_count": 1,
   "id": "d3c60a41",
   "metadata": {},
   "outputs": [
    {
     "name": "stdout",
     "output_type": "stream",
     "text": [
      "Hello\n"
     ]
    }
   ],
   "source": [
    "print(\"Hello\")"
   ]
  },
  {
   "cell_type": "code",
   "execution_count": 9,
   "id": "30b4fb37",
   "metadata": {},
   "outputs": [
    {
     "name": "stdout",
     "output_type": "stream",
     "text": [
      "22\n",
      "JHFJ\n"
     ]
    },
    {
     "data": {
      "text/plain": [
       "str"
      ]
     },
     "execution_count": 9,
     "metadata": {},
     "output_type": "execute_result"
    }
   ],
   "source": [
    "a=10\n",
    "b=12\n",
    "c=\"JHFJ\"\n",
    "print(a+b)\n",
    "type(b)\n",
    "print(c)\n",
    "type(c)"
   ]
  },
  {
   "cell_type": "code",
   "execution_count": 5,
   "id": "c85d22a6",
   "metadata": {},
   "outputs": [
    {
     "name": "stdout",
     "output_type": "stream",
     "text": [
      "[1, 2, 'Hello', 3, 4, 5, 6]\n"
     ]
    }
   ],
   "source": [
    "a=[1,2,\"Hello\",3,4,5,6]\n",
    "print(a)"
   ]
  },
  {
   "cell_type": "code",
   "execution_count": 3,
   "id": "732898c5",
   "metadata": {
    "scrolled": true
   },
   "outputs": [
    {
     "data": {
      "text/plain": [
       "list"
      ]
     },
     "execution_count": 3,
     "metadata": {},
     "output_type": "execute_result"
    }
   ],
   "source": [
    "type(a)"
   ]
  },
  {
   "cell_type": "code",
   "execution_count": 3,
   "id": "ea27f90b",
   "metadata": {},
   "outputs": [
    {
     "name": "stdout",
     "output_type": "stream",
     "text": [
      "30\n"
     ]
    }
   ],
   "source": [
    "a=10\n",
    "b=20\n",
    "print(a+b)\n"
   ]
  },
  {
   "cell_type": "code",
   "execution_count": 4,
   "id": "981981cd",
   "metadata": {},
   "outputs": [
    {
     "name": "stdout",
     "output_type": "stream",
     "text": [
      "7\n"
     ]
    }
   ],
   "source": [
    "a=5\n",
    "b=2\n",
    "print(a+b)"
   ]
  },
  {
   "cell_type": "code",
   "execution_count": 6,
   "id": "32a0a644",
   "metadata": {},
   "outputs": [
    {
     "name": "stdout",
     "output_type": "stream",
     "text": [
      "frozenset({10, 20, 30})\n"
     ]
    }
   ],
   "source": [
    "s={10,20,30}\n",
    "fs=frozenset(s)\n",
    "print(fs)"
   ]
  },
  {
   "cell_type": "markdown",
   "id": "0a179e2b",
   "metadata": {},
   "source": [
    "# title"
   ]
  },
  {
   "cell_type": "markdown",
   "id": "ad12ccf2",
   "metadata": {},
   "source": [
    "Study Work of 09-10-2021"
   ]
  },
  {
   "cell_type": "code",
   "execution_count": 9,
   "id": "c980d5c8",
   "metadata": {},
   "outputs": [
    {
     "data": {
      "text/plain": [
       "'is tutorial is basically desig'"
      ]
     },
     "execution_count": 9,
     "metadata": {},
     "output_type": "execute_result"
    }
   ],
   "source": [
    "str1 = \"This tutorial is basically designed for beginers\"\n",
    "\n",
    "\n",
    "str1[2]\n",
    "str1[:4]\n",
    "\n",
    "str1[2:-16]"
   ]
  },
  {
   "cell_type": "code",
   "execution_count": 10,
   "id": "f1a146cf",
   "metadata": {},
   "outputs": [
    {
     "data": {
      "text/plain": [
       "'This tutorial is basically designed for begi'"
      ]
     },
     "execution_count": 10,
     "metadata": {},
     "output_type": "execute_result"
    }
   ],
   "source": [
    "str1[:-4]"
   ]
  },
  {
   "cell_type": "code",
   "execution_count": 13,
   "id": "8108b65a",
   "metadata": {},
   "outputs": [
    {
     "data": {
      "text/plain": [
       "'This tutorial is basical'"
      ]
     },
     "execution_count": 13,
     "metadata": {},
     "output_type": "execute_result"
    }
   ],
   "source": [
    "str1[:-24]\n"
   ]
  },
  {
   "cell_type": "code",
   "execution_count": 14,
   "id": "b0633afa",
   "metadata": {},
   "outputs": [
    {
     "data": {
      "text/plain": [
       "'ly designed for beginers'"
      ]
     },
     "execution_count": 14,
     "metadata": {},
     "output_type": "execute_result"
    }
   ],
   "source": [
    "str1[-24:]"
   ]
  },
  {
   "cell_type": "code",
   "execution_count": null,
   "id": "24ec29e1",
   "metadata": {},
   "outputs": [],
   "source": [
    "str1[-24:-32]"
   ]
  },
  {
   "cell_type": "code",
   "execution_count": 18,
   "id": "c8df81b3",
   "metadata": {},
   "outputs": [
    {
     "data": {
      "text/plain": [
       "'This tutorial is basically designed for beginersThis tutorial is basically designed for beginers'"
      ]
     },
     "execution_count": 18,
     "metadata": {},
     "output_type": "execute_result"
    }
   ],
   "source": [
    "str1*2\n",
    "\n",
    "\n"
   ]
  },
  {
   "cell_type": "code",
   "execution_count": 23,
   "id": "a1392b39",
   "metadata": {},
   "outputs": [
    {
     "data": {
      "text/plain": [
       "' '"
      ]
     },
     "execution_count": 23,
     "metadata": {},
     "output_type": "execute_result"
    }
   ],
   "source": [
    "str1[-32]\n",
    "\n"
   ]
  },
  {
   "cell_type": "code",
   "execution_count": 24,
   "id": "f68dab43",
   "metadata": {},
   "outputs": [
    {
     "data": {
      "text/plain": [
       "'This tutorial is'"
      ]
     },
     "execution_count": 24,
     "metadata": {},
     "output_type": "execute_result"
    }
   ],
   "source": [
    "str1[:-32]"
   ]
  },
  {
   "cell_type": "code",
   "execution_count": null,
   "id": "421fd74f",
   "metadata": {},
   "outputs": [],
   "source": []
  },
  {
   "cell_type": "code",
   "execution_count": 25,
   "id": "0098d72e",
   "metadata": {},
   "outputs": [
    {
     "data": {
      "text/plain": [
       "str"
      ]
     },
     "execution_count": 25,
     "metadata": {},
     "output_type": "execute_result"
    }
   ],
   "source": [
    "type(str1)\n"
   ]
  },
  {
   "cell_type": "code",
   "execution_count": 26,
   "id": "d1c0d1e9",
   "metadata": {},
   "outputs": [
    {
     "name": "stdout",
     "output_type": "stream",
     "text": [
      "True\n"
     ]
    }
   ],
   "source": [
    "print(bool(str1))\n"
   ]
  },
  {
   "cell_type": "code",
   "execution_count": null,
   "id": "dec3bd0e",
   "metadata": {},
   "outputs": [],
   "source": []
  }
 ],
 "metadata": {
  "kernelspec": {
   "display_name": "Python 3 (ipykernel)",
   "language": "python",
   "name": "python3"
  },
  "language_info": {
   "codemirror_mode": {
    "name": "ipython",
    "version": 3
   },
   "file_extension": ".py",
   "mimetype": "text/x-python",
   "name": "python",
   "nbconvert_exporter": "python",
   "pygments_lexer": "ipython3",
   "version": "3.9.7"
  }
 },
 "nbformat": 4,
 "nbformat_minor": 5
}
