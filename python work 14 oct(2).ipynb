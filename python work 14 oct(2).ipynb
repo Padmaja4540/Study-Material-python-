{
 "cells": [
  {
   "cell_type": "markdown",
   "id": "851f2c98",
   "metadata": {},
   "source": [
    "# Study Work as on 13.10.2021"
   ]
  },
  {
   "cell_type": "markdown",
   "id": "f2528e61",
   "metadata": {},
   "source": [
    "#Set\n"
   ]
  },
  {
   "cell_type": "code",
   "execution_count": 2,
   "id": "30ff4350",
   "metadata": {},
   "outputs": [
    {
     "name": "stdout",
     "output_type": "stream",
     "text": [
      "{0, 1, 'loss', 2, 3, 'gain', 'profit'}\n",
      "<class 'set'>\n",
      "7\n"
     ]
    }
   ],
   "source": [
    "a = {'profit','loss','gain',0,1,2,3}\n",
    "\n",
    "print(a)\n",
    "print(type(a))\n",
    "print(len(a))"
   ]
  },
  {
   "cell_type": "code",
   "execution_count": 4,
   "id": "e6cacbdf",
   "metadata": {},
   "outputs": [
    {
     "name": "stdout",
     "output_type": "stream",
     "text": [
      "{'pro', 'loss', 'exp', 'inc'}\n",
      "<class 'set'>\n"
     ]
    }
   ],
   "source": [
    "b = set(('inc','exp','pro','loss'))\n",
    "\n",
    "print(b)\n",
    "print(type(b))"
   ]
  },
  {
   "cell_type": "code",
   "execution_count": 7,
   "id": "68592066",
   "metadata": {},
   "outputs": [
    {
     "name": "stdout",
     "output_type": "stream",
     "text": [
      "False\n",
      "True\n"
     ]
    }
   ],
   "source": [
    "c = \"assets\" in b\n",
    "\n",
    "print(c)\n",
    "print (\"inc\" in b)"
   ]
  },
  {
   "cell_type": "code",
   "execution_count": 9,
   "id": "ab43c583",
   "metadata": {},
   "outputs": [
    {
     "name": "stdout",
     "output_type": "stream",
     "text": [
      "{'pro', 'loss', 'exp', 'inc'}\n",
      "{'loss', 'exp', 'inc', 'pro', 'liabilities'}\n"
     ]
    }
   ],
   "source": [
    "print(set(b))\n",
    "\n",
    "b.add('liabilities')\n",
    "print(b)"
   ]
  },
  {
   "cell_type": "code",
   "execution_count": 13,
   "id": "e6ceace3",
   "metadata": {},
   "outputs": [
    {
     "name": "stdout",
     "output_type": "stream",
     "text": [
      "{1, 'indice', 2, 3, 'margin', 'ratio', 'cap', 'trade'}\n",
      "{1, 'indice', 2, 3, 'cap', 10.1, 20.2, 'trade', 30.3, 40.4, 'margin', 'ratio'}\n"
     ]
    }
   ],
   "source": [
    "set1={'trade','indice','ratio','cap','margin'}\n",
    "tup=(1,2,3)\n",
    "list=[10.1,20.2,30.3,40.4]\n",
    "\n",
    "set1.update(tup)\n",
    "print(set1)\n",
    "set1.update(list)\n",
    "print(set1)"
   ]
  },
  {
   "cell_type": "code",
   "execution_count": 21,
   "id": "9df8ba5d",
   "metadata": {},
   "outputs": [
    {
     "name": "stdout",
     "output_type": "stream",
     "text": [
      "{'indice', 'margin', 'ratio', 'cap'}\n",
      "{'indice', 'margin', 'cap'}\n",
      "{'indice', 'margin', 'cap'}\n",
      "{'margin', 'cap'}\n"
     ]
    }
   ],
   "source": [
    "set1={'trade','indice','ratio','cap','margin'}\n",
    "\n",
    "set1.remove('trade')\n",
    "print(set1)\n",
    "\n",
    "set1.discard('ratio')\n",
    "print(set1)\n",
    "\n",
    "set1.discard('profit')\n",
    "print(set1)\n",
    "\n",
    "set1.pop()\n",
    "print(set1)"
   ]
  },
  {
   "cell_type": "markdown",
   "id": "5bace35d",
   "metadata": {},
   "source": [
    "# Types of Sets"
   ]
  },
  {
   "cell_type": "code",
   "execution_count": 22,
   "id": "0870bb09",
   "metadata": {},
   "outputs": [
    {
     "name": "stdout",
     "output_type": "stream",
     "text": [
      "{'indice', 'cap', 40.4, 10.1, 20.2, 'margin', 'ratio', 'trade', 30.3}\n"
     ]
    }
   ],
   "source": [
    "set1={'trade','indice','ratio','cap','margin'}\n",
    "set2={10.1,20.2,30.3,40.4}\n",
    "\n",
    "print(set1.union(set2))"
   ]
  },
  {
   "cell_type": "code",
   "execution_count": 28,
   "id": "e5a43acb",
   "metadata": {},
   "outputs": [
    {
     "name": "stdout",
     "output_type": "stream",
     "text": [
      "{'trade', 'indice', 'ratio'}\n",
      "{'trade', 'indice', 'ratio'}\n"
     ]
    }
   ],
   "source": [
    "set3={'trade','indice','ratio','cap','margin'}\n",
    "set4={10.1,'trade','indice','ratio',20.2,30.3,40.4}\n",
    "\n",
    "print(set3.intersection(set4))\n",
    "intr = set3.intersection_update(set4) \n",
    "print(set3)\n"
   ]
  },
  {
   "cell_type": "code",
   "execution_count": 35,
   "id": "485f7f05",
   "metadata": {},
   "outputs": [
    {
     "name": "stdout",
     "output_type": "stream",
     "text": [
      "{'indice', 'ratio', 'cap', 'magin', 'trade'}\n",
      "{'indice', 'cap', 11.1, 22.2, 'trade', 33.3, 44.4, 'ratio', 55.5, 'magin'}\n",
      "{'indice', 'cap', 11.1, 22.2, 'trade', 33.3, 44.4, 'ratio', 55.5, 'magin'}\n"
     ]
    }
   ],
   "source": [
    "set5={'trade','indice','ratio','cap','magin'}\n",
    "set6={11.1,22.2,33.3,44.4,55.5}\n",
    "\n",
    "b=set5.copy()\n",
    "print(b)\n",
    "\n",
    "print(set5.symmetric_difference(set6))\n",
    "d=set5.symmetric_difference_update(set6)\n",
    "print(set5)"
   ]
  },
  {
   "cell_type": "code",
   "execution_count": 37,
   "id": "9db0ac18",
   "metadata": {},
   "outputs": [
    {
     "name": "stdout",
     "output_type": "stream",
     "text": [
      "True\n"
     ]
    }
   ],
   "source": [
    "set7={'trade','indice','ratio','cap','magin'}\n",
    "set8={11.1,22.2,33.3,44.4,55.5}\n",
    "\n",
    "print(set7.isdisjoint(set8))"
   ]
  },
  {
   "cell_type": "code",
   "execution_count": 39,
   "id": "d2aa52fc",
   "metadata": {},
   "outputs": [
    {
     "name": "stdout",
     "output_type": "stream",
     "text": [
      "True\n",
      "True\n"
     ]
    }
   ],
   "source": [
    "set9={'trade','indice','ratio','cap','magin'}\n",
    "set10={'trade','indice','ratio','cap','magin',11.1,22.2,33.3,44.4}\n",
    "\n",
    "print(set9.issubset(set10))\n",
    "\n",
    "print(set10.issuperset(set9))"
   ]
  },
  {
   "cell_type": "code",
   "execution_count": 48,
   "id": "1783d9d1",
   "metadata": {},
   "outputs": [
    {
     "name": "stdout",
     "output_type": "stream",
     "text": [
      "{'indice', 'ratio', 'magin', 'trade'}\n",
      "{'indice', 'ratio', 'magin', 'trade', 'cap'}\n",
      "{'indice', 'ratio', 'trade', 'cap'}\n",
      "set()\n",
      "{33.3, 'indice', 'cap', 11.1, 44.4, 'ratio', 22.2, 'magin', 'trade'}\n"
     ]
    }
   ],
   "source": [
    "set9={'trade','indice','ratio','cap','magin'}\n",
    "set10={'trade','indice','ratio','cap','magin',11.1,22.2,33.3,44.4}\n",
    "\n",
    "a=set9.remove('cap')\n",
    "print(set9)\n",
    "\n",
    "b=set9.add('cap')\n",
    "print(set9)\n",
    "\n",
    "c=set9.discard('magin')\n",
    "print(set9)\n",
    "\n",
    "d=set9.clear()\n",
    "print(set9)\n",
    "\n",
    "e=set9.update(set10)\n",
    "print(set9)"
   ]
  },
  {
   "cell_type": "markdown",
   "id": "af62ec94",
   "metadata": {},
   "source": [
    "# Frozen Set\n"
   ]
  },
  {
   "cell_type": "code",
   "execution_count": 55,
   "id": "991134b1",
   "metadata": {},
   "outputs": [
    {
     "name": "stdout",
     "output_type": "stream",
     "text": [
      "{33.3, 'indice', 'cap', 11.1, 44.4, 'ratio', 22.2, 'magin', 'trade'}\n",
      "<class 'set'>\n",
      "frozenset({33.3, 'indice', 'cap', 11.1, 44.4, 'ratio', 22.2, 'magin', 'trade'})\n",
      "<class 'frozenset'>\n"
     ]
    }
   ],
   "source": [
    "print(set9)\n",
    "print(type(set9))\n",
    "\n",
    "a=frozenset(set9)\n",
    "print(a)\n",
    "print(type(a))"
   ]
  },
  {
   "cell_type": "code",
   "execution_count": 69,
   "id": "0a2dfd49",
   "metadata": {},
   "outputs": [
    {
     "name": "stdout",
     "output_type": "stream",
     "text": [
      "{33.3, 'indice', 'cap', 11.1, 44.4, 'ratio', 22.2, 'magin', 'trade'}\n",
      "<class 'frozenset'>\n"
     ]
    },
    {
     "ename": "TypeError",
     "evalue": "descriptor 'isdisjoint' for 'frozenset' objects doesn't apply to a 'set' object",
     "output_type": "error",
     "traceback": [
      "\u001b[1;31m---------------------------------------------------------------------------\u001b[0m",
      "\u001b[1;31mTypeError\u001b[0m                                 Traceback (most recent call last)",
      "\u001b[1;32m~\\AppData\\Local\\Temp/ipykernel_15924/1097271074.py\u001b[0m in \u001b[0;36m<module>\u001b[1;34m\u001b[0m\n\u001b[0;32m      4\u001b[0m \u001b[0mprint\u001b[0m\u001b[1;33m(\u001b[0m\u001b[0mtype\u001b[0m\u001b[1;33m(\u001b[0m\u001b[0ma\u001b[0m\u001b[1;33m)\u001b[0m\u001b[1;33m)\u001b[0m\u001b[1;33m\u001b[0m\u001b[1;33m\u001b[0m\u001b[0m\n\u001b[0;32m      5\u001b[0m \u001b[1;33m\u001b[0m\u001b[0m\n\u001b[1;32m----> 6\u001b[1;33m \u001b[0mb\u001b[0m\u001b[1;33m=\u001b[0m\u001b[0mfrozenset\u001b[0m\u001b[1;33m.\u001b[0m\u001b[0misdisjoint\u001b[0m\u001b[1;33m(\u001b[0m\u001b[0mset10\u001b[0m\u001b[1;33m)\u001b[0m\u001b[1;33m\u001b[0m\u001b[1;33m\u001b[0m\u001b[0m\n\u001b[0m\u001b[0;32m      7\u001b[0m \u001b[0mprint\u001b[0m\u001b[1;33m(\u001b[0m\u001b[0mset10\u001b[0m\u001b[1;33m)\u001b[0m\u001b[1;33m\u001b[0m\u001b[1;33m\u001b[0m\u001b[0m\n",
      "\u001b[1;31mTypeError\u001b[0m: descriptor 'isdisjoint' for 'frozenset' objects doesn't apply to a 'set' object"
     ]
    }
   ],
   "source": [
    "print(set10)\n",
    "\n",
    "a=frozenset(set10)\n",
    "print(type(a))\n",
    "\n",
    "b=frozenset.isdisjoint(set10)\n",
    "print(set10)\n"
   ]
  },
  {
   "cell_type": "code",
   "execution_count": null,
   "id": "e507d7a9",
   "metadata": {},
   "outputs": [],
   "source": []
  },
  {
   "cell_type": "code",
   "execution_count": null,
   "id": "00fb67ea",
   "metadata": {},
   "outputs": [],
   "source": []
  }
 ],
 "metadata": {
  "kernelspec": {
   "display_name": "Python 3 (ipykernel)",
   "language": "python",
   "name": "python3"
  },
  "language_info": {
   "codemirror_mode": {
    "name": "ipython",
    "version": 3
   },
   "file_extension": ".py",
   "mimetype": "text/x-python",
   "name": "python",
   "nbconvert_exporter": "python",
   "pygments_lexer": "ipython3",
   "version": "3.9.7"
  }
 },
 "nbformat": 4,
 "nbformat_minor": 5
}
