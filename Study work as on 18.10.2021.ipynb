{
 "cells": [
  {
   "cell_type": "markdown",
   "id": "6c592365",
   "metadata": {},
   "source": [
    "# A. Typecasting of Set into 1.list   2.Tuple   3.Dictioneries\n"
   ]
  },
  {
   "cell_type": "markdown",
   "id": "67f688db",
   "metadata": {},
   "source": [
    "#1.Set into List\n"
   ]
  },
  {
   "cell_type": "code",
   "execution_count": 3,
   "id": "1c632244",
   "metadata": {},
   "outputs": [
    {
     "name": "stdout",
     "output_type": "stream",
     "text": [
      "[1, 2, 3, 4, 5]\n",
      "[33.4, 22.3, 10.1, 11.2, 44.5]\n",
      "<class 'list'> <class 'list'>\n"
     ]
    }
   ],
   "source": [
    "set1={1,2,3,4,5}\n",
    "set2={10.1,11.2,22.3,33.4,44.5}\n",
    "\n",
    "set3=list(set1)\n",
    "set4=list(set2)\n",
    "\n",
    "print(set3)\n",
    "print(set4)\n",
    "print(type(set3),type(set4))"
   ]
  },
  {
   "cell_type": "markdown",
   "id": "40030c22",
   "metadata": {},
   "source": [
    "#2.Set into Tuple\n"
   ]
  },
  {
   "cell_type": "code",
   "execution_count": 4,
   "id": "99c8d059",
   "metadata": {},
   "outputs": [
    {
     "name": "stdout",
     "output_type": "stream",
     "text": [
      "(1, 2, 3, 4, 5)\n",
      "(33.4, 22.3, 10.1, 11.2, 44.5)\n",
      "<class 'tuple'> <class 'tuple'>\n"
     ]
    }
   ],
   "source": [
    "set1={1,2,3,4,5}\n",
    "set2={10.1,11.2,22.3,33.4,44.5}\n",
    "\n",
    "set3=tuple(set1)\n",
    "set4=tuple(set2)\n",
    "\n",
    "print(set3)\n",
    "print(set4)\n",
    "print(type(set3),type(set4))"
   ]
  },
  {
   "cell_type": "code",
   "execution_count": 9,
   "id": "702680d1",
   "metadata": {},
   "outputs": [
    {
     "ename": "ValueError",
     "evalue": "dictionary update sequence element #0 has length 5; 2 is required",
     "output_type": "error",
     "traceback": [
      "\u001b[1;31m---------------------------------------------------------------------------\u001b[0m",
      "\u001b[1;31mValueError\u001b[0m                                Traceback (most recent call last)",
      "\u001b[1;32m~\\AppData\\Local\\Temp/ipykernel_7332/3633030354.py\u001b[0m in \u001b[0;36m<module>\u001b[1;34m\u001b[0m\n\u001b[0;32m      2\u001b[0m \u001b[1;33m\u001b[0m\u001b[0m\n\u001b[0;32m      3\u001b[0m \u001b[1;33m\u001b[0m\u001b[0m\n\u001b[1;32m----> 4\u001b[1;33m \u001b[0mset3\u001b[0m\u001b[1;33m=\u001b[0m\u001b[0mdict\u001b[0m\u001b[1;33m(\u001b[0m\u001b[0mset1\u001b[0m\u001b[1;33m)\u001b[0m\u001b[1;33m\u001b[0m\u001b[1;33m\u001b[0m\u001b[0m\n\u001b[0m\u001b[0;32m      5\u001b[0m \u001b[1;33m\u001b[0m\u001b[0m\n\u001b[0;32m      6\u001b[0m \u001b[0mprint\u001b[0m\u001b[1;33m(\u001b[0m\u001b[0mset3\u001b[0m\u001b[1;33m)\u001b[0m\u001b[1;33m\u001b[0m\u001b[1;33m\u001b[0m\u001b[0m\n",
      "\u001b[1;31mValueError\u001b[0m: dictionary update sequence element #0 has length 5; 2 is required"
     ]
    }
   ],
   "source": [
    "set1={'ram','shyam','bal'}\n",
    "\n",
    "\n",
    "set3=dict(set1)\n",
    "\n",
    "print(set3)\n"
   ]
  },
  {
   "cell_type": "markdown",
   "id": "9c515b19",
   "metadata": {},
   "source": [
    "# B.Function of Sets\n"
   ]
  },
  {
   "cell_type": "code",
   "execution_count": 41,
   "id": "4839bf0e",
   "metadata": {},
   "outputs": [
    {
     "name": "stdout",
     "output_type": "stream",
     "text": [
      "{'nam', 'shyam', 4, 5, 6, 'ghana', 'ram'}\n",
      "{1, 2, 3, 4, 5, 6, 'ram', 'nam', 'shyam'}\n",
      "{4, 5, 6, 'ram', 'nam', 'shyam'}\n",
      "True\n",
      "True\n",
      "False\n",
      "True\n",
      "{1, 2, 3, 4, 5, 6, 'ram', 'nam', 'shyam'}\n",
      "{33.3, 11.1, 44.4, 22.2, 55.5}\n",
      "None\n",
      "True\n",
      "{1, 2, 3, 4, 5, 6, 'ram', 'shyam'}\n",
      "{1, 2, 3, 4, 5, 6, 'shyam'}\n",
      "{1, 2, 3, 4, 5, 6, 33.3, 11.1, 44.4, 'shyam', 22.2, 55.5}\n",
      "{1, 2, 3, 4, 5, 6, 33.3, 11.1, 44.4, 'shyam', 22.2, 55.5}\n",
      "[<class 'set'>, <class 'object'>]\n"
     ]
    }
   ],
   "source": [
    "set1={1,2,3,4,5,6}\n",
    "set2={'ram','shyam','nam',4,5,6}\n",
    "set3={1,2,3,4,5,6,'ram','shyam','nam'}\n",
    "set4={11.1,22.2,33.3,44.4,55.5}\n",
    "\n",
    "set2.add('ghana')\n",
    "print(set2)\n",
    "\n",
    "set3.copy()\n",
    "print(set3)\n",
    "\n",
    "a=set3.intersection(set2)\n",
    "print(a)\n",
    "\n",
    "b=set1.issubset(set3)\n",
    "print(b)\n",
    "\n",
    "c=set3.issuperset(set1)\n",
    "print(c)\n",
    "\n",
    "d=set4.issubset(set1)\n",
    "print(d)\n",
    "\n",
    "e=set2.isdisjoint(set4)\n",
    "print(e)\n",
    "\n",
    "f=set3.difference(set4)\n",
    "print(f)\n",
    "\n",
    "g=set4.difference(set3)\n",
    "print(g)\n",
    "\n",
    "h=set4.difference_update()\n",
    "print(h)\n",
    "\n",
    "i=set3.isdisjoint(set4)\n",
    "print(i)\n",
    "\n",
    "j=set3.remove('nam')\n",
    "print(set3)\n",
    "\n",
    "k=set3.discard('ram')\n",
    "print(set3)\n",
    "\n",
    "j=set3.union(set4)\n",
    "print(j)\n",
    "\n",
    "k=set3.update(set4)\n",
    "print(set3)\n",
    "\n",
    "l=set.mro()\n",
    "print(l)"
   ]
  },
  {
   "cell_type": "markdown",
   "id": "1f7ac25b",
   "metadata": {},
   "source": [
    "#C.Functions of Frozenset"
   ]
  },
  {
   "cell_type": "code",
   "execution_count": 54,
   "id": "23658633",
   "metadata": {},
   "outputs": [
    {
     "ename": "SyntaxError",
     "evalue": "cannot assign to literal (Temp/ipykernel_7332/112218423.py, line 1)",
     "output_type": "error",
     "traceback": [
      "\u001b[1;36m  File \u001b[1;32m\"C:\\Users\\Admin\\AppData\\Local\\Temp/ipykernel_7332/112218423.py\"\u001b[1;36m, line \u001b[1;32m1\u001b[0m\n\u001b[1;33m    1=frozenset{1,2,3,4,5,6}\u001b[0m\n\u001b[1;37m    ^\u001b[0m\n\u001b[1;31mSyntaxError\u001b[0m\u001b[1;31m:\u001b[0m cannot assign to literal\n"
     ]
    }
   ],
   "source": [
    "1=frozenset{1,2,3,4,5,6}\n",
    "set2=frozenset{'ram','shyam','nam',4,5,6}\n",
    "set3=frozenset{1,2,3,4,5,6,'ram','shyam','nam'}\n",
    "set4=frozenset{11.1,22.2,33.3,44.4,55.5}\n",
    "b1=set2.frozenset.difference(set3)\n",
    "print(b1)"
   ]
  },
  {
   "cell_type": "markdown",
   "id": "91a999e7",
   "metadata": {},
   "source": [
    "# C.Typecasting of Dictioneries to 1.list  2.Tuple  3.Set"
   ]
  },
  {
   "cell_type": "code",
   "execution_count": 59,
   "id": "e0d861bd",
   "metadata": {},
   "outputs": [
    {
     "name": "stdout",
     "output_type": "stream",
     "text": [
      "<class 'set'>\n",
      "{'role': '1', 'name': '2', 'rank': '3'}\n",
      "<class 'dict'>\n"
     ]
    }
   ],
   "source": [
    "dict1={'role':'1','name':'2','rank':'3'}\n",
    "set2={'ram','shyam','nam',4,5,6}\n",
    "set3={1,2,3,4,5,6,'ram','shyam','nam'}\n",
    "set4={11.1,22.2,33.3,44.4,55.5}\n",
    "\n",
    "\n",
    "print(type(set1))\n",
    "b=dict(dict1)\n",
    "print(b)\n",
    "print(type(b))"
   ]
  },
  {
   "cell_type": "code",
   "execution_count": 65,
   "id": "39ff3d1a",
   "metadata": {},
   "outputs": [
    {
     "name": "stdout",
     "output_type": "stream",
     "text": [
      "{'role': '1', 'name': '2', 'rank': '3'}\n",
      "{'role': '1', 'name': '2', 'rank': '3'}\n",
      "<class 'dict'>\n",
      "('role', 'name', 'rank')\n",
      "<class 'tuple'>\n",
      "{'role', 'rank', 'name'}\n",
      "<class 'set'>\n"
     ]
    }
   ],
   "source": [
    "dict1={'role':'1','name':'2','rank':'3'}\n",
    "set2={'ram','shyam','nam',4,5,6}\n",
    "set3={1,2,3,4,5,6,'ram','shyam','nam'}\n",
    "set4={11.1,22.2,33.3,44.4,55.5}\n",
    "\n",
    "c=dict(dict1)\n",
    "print(c)\n",
    "\n",
    "print(dict1)\n",
    "print(type(dict1))\n",
    "\n",
    "e=tuple(dict1)\n",
    "print(e)\n",
    "print(type(e))\n",
    "\n",
    "f=set(dict1)\n",
    "print(f)\n",
    "print(type(f))"
   ]
  },
  {
   "cell_type": "markdown",
   "id": "46229825",
   "metadata": {},
   "source": [
    "# C.Functions of Dictioneries"
   ]
  },
  {
   "cell_type": "code",
   "execution_count": 85,
   "id": "098c7929",
   "metadata": {},
   "outputs": [
    {
     "name": "stdout",
     "output_type": "stream",
     "text": [
      "<class 'dict'>\n"
     ]
    },
    {
     "ename": "TypeError",
     "evalue": "descriptor 'get' for 'dict' objects doesn't apply to a 'str' object",
     "output_type": "error",
     "traceback": [
      "\u001b[1;31m---------------------------------------------------------------------------\u001b[0m",
      "\u001b[1;31mTypeError\u001b[0m                                 Traceback (most recent call last)",
      "\u001b[1;32m~\\AppData\\Local\\Temp/ipykernel_7332/3675380049.py\u001b[0m in \u001b[0;36m<module>\u001b[1;34m\u001b[0m\n\u001b[0;32m      3\u001b[0m \u001b[0mprint\u001b[0m\u001b[1;33m(\u001b[0m\u001b[0mtype\u001b[0m\u001b[1;33m(\u001b[0m\u001b[0ma\u001b[0m\u001b[1;33m)\u001b[0m\u001b[1;33m)\u001b[0m\u001b[1;33m\u001b[0m\u001b[1;33m\u001b[0m\u001b[0m\n\u001b[0;32m      4\u001b[0m \u001b[1;33m\u001b[0m\u001b[0m\n\u001b[1;32m----> 5\u001b[1;33m \u001b[0mb\u001b[0m\u001b[1;33m=\u001b[0m\u001b[0mdict\u001b[0m\u001b[1;33m.\u001b[0m\u001b[0mget\u001b[0m\u001b[1;33m(\u001b[0m\u001b[1;34m'Class'\u001b[0m\u001b[1;33m)\u001b[0m\u001b[1;33m\u001b[0m\u001b[1;33m\u001b[0m\u001b[0m\n\u001b[0m\u001b[0;32m      6\u001b[0m \u001b[0mprint\u001b[0m\u001b[1;33m(\u001b[0m\u001b[0mb\u001b[0m\u001b[1;33m)\u001b[0m\u001b[1;33m\u001b[0m\u001b[1;33m\u001b[0m\u001b[0m\n",
      "\u001b[1;31mTypeError\u001b[0m: descriptor 'get' for 'dict' objects doesn't apply to a 'str' object"
     ]
    }
   ],
   "source": [
    "a={'Name':'Padmaja','Address':'Narhe','Class':'Data Science','Title':'Job Seeker'}\n",
    "\n",
    "print(type(a))\n",
    "\n",
    "b=dict.get('Class')\n",
    "print(b)\n"
   ]
  },
  {
   "cell_type": "code",
   "execution_count": null,
   "id": "4c1b4fee",
   "metadata": {},
   "outputs": [],
   "source": []
  },
  {
   "cell_type": "code",
   "execution_count": null,
   "id": "fd20884d",
   "metadata": {},
   "outputs": [],
   "source": []
  }
 ],
 "metadata": {
  "kernelspec": {
   "display_name": "Python 3 (ipykernel)",
   "language": "python",
   "name": "python3"
  },
  "language_info": {
   "codemirror_mode": {
    "name": "ipython",
    "version": 3
   },
   "file_extension": ".py",
   "mimetype": "text/x-python",
   "name": "python",
   "nbconvert_exporter": "python",
   "pygments_lexer": "ipython3",
   "version": "3.9.7"
  }
 },
 "nbformat": 4,
 "nbformat_minor": 5
}
