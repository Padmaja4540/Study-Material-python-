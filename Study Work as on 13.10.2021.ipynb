{
 "cells": [
  {
   "cell_type": "code",
   "execution_count": 3,
   "id": "d3c60a41",
   "metadata": {},
   "outputs": [
    {
     "name": "stdout",
     "output_type": "stream",
     "text": [
      "Hello\n"
     ]
    }
   ],
   "source": [
    "print(\"Hello\")"
   ]
  },
  {
   "cell_type": "code",
   "execution_count": 4,
   "id": "30b4fb37",
   "metadata": {},
   "outputs": [
    {
     "name": "stdout",
     "output_type": "stream",
     "text": [
      "22\n",
      "JHFJ\n"
     ]
    },
    {
     "data": {
      "text/plain": [
       "str"
      ]
     },
     "execution_count": 4,
     "metadata": {},
     "output_type": "execute_result"
    }
   ],
   "source": [
    "a=10\n",
    "b=12\n",
    "c=\"JHFJ\"\n",
    "print(a+b)\n",
    "type(b)\n",
    "print(c)\n",
    "type(c)"
   ]
  },
  {
   "cell_type": "code",
   "execution_count": 5,
   "id": "c85d22a6",
   "metadata": {},
   "outputs": [
    {
     "name": "stdout",
     "output_type": "stream",
     "text": [
      "[1, 2, 'Hello', 3, 4, 5, 6]\n"
     ]
    }
   ],
   "source": [
    "a=[1,2,\"Hello\",3,4,5,6]\n",
    "print(a)"
   ]
  },
  {
   "cell_type": "code",
   "execution_count": 6,
   "id": "732898c5",
   "metadata": {
    "scrolled": true
   },
   "outputs": [
    {
     "data": {
      "text/plain": [
       "list"
      ]
     },
     "execution_count": 6,
     "metadata": {},
     "output_type": "execute_result"
    }
   ],
   "source": [
    "type(a)"
   ]
  },
  {
   "cell_type": "code",
   "execution_count": 7,
   "id": "ea27f90b",
   "metadata": {},
   "outputs": [
    {
     "name": "stdout",
     "output_type": "stream",
     "text": [
      "30\n"
     ]
    }
   ],
   "source": [
    "a=10\n",
    "b=20\n",
    "print(a+b)\n"
   ]
  },
  {
   "cell_type": "code",
   "execution_count": 8,
   "id": "981981cd",
   "metadata": {},
   "outputs": [
    {
     "name": "stdout",
     "output_type": "stream",
     "text": [
      "7\n"
     ]
    }
   ],
   "source": [
    "a=5\n",
    "b=2\n",
    "print(a+b)"
   ]
  },
  {
   "cell_type": "code",
   "execution_count": 9,
   "id": "32a0a644",
   "metadata": {},
   "outputs": [
    {
     "name": "stdout",
     "output_type": "stream",
     "text": [
      "frozenset({10, 20, 30})\n"
     ]
    }
   ],
   "source": [
    "s={10,20,30}\n",
    "fs=frozenset(s)\n",
    "print(fs)"
   ]
  },
  {
   "cell_type": "markdown",
   "id": "9ff68daf",
   "metadata": {},
   "source": [
    "# title"
   ]
  },
  {
   "cell_type": "markdown",
   "id": "3ac2b353",
   "metadata": {},
   "source": [
    "Study Work of 09-10-2021"
   ]
  },
  {
   "cell_type": "code",
   "execution_count": 10,
   "id": "0f95291d",
   "metadata": {},
   "outputs": [
    {
     "data": {
      "text/plain": [
       "'is tutorial is basically desig'"
      ]
     },
     "execution_count": 10,
     "metadata": {},
     "output_type": "execute_result"
    }
   ],
   "source": [
    "str1 = \"This tutorial is basically designed for beginers\"\n",
    "\n",
    "\n",
    "str1[2]\n",
    "str1[:4]\n",
    "\n",
    "str1[2:-16]"
   ]
  },
  {
   "cell_type": "code",
   "execution_count": 11,
   "id": "2c0c8583",
   "metadata": {},
   "outputs": [
    {
     "data": {
      "text/plain": [
       "'This tutorial is basically designed for begi'"
      ]
     },
     "execution_count": 11,
     "metadata": {},
     "output_type": "execute_result"
    }
   ],
   "source": [
    "str1[:-4]"
   ]
  },
  {
   "cell_type": "code",
   "execution_count": 12,
   "id": "be1e56bc",
   "metadata": {},
   "outputs": [
    {
     "data": {
      "text/plain": [
       "'This tutorial is basical'"
      ]
     },
     "execution_count": 12,
     "metadata": {},
     "output_type": "execute_result"
    }
   ],
   "source": [
    "str1[:-24]\n"
   ]
  },
  {
   "cell_type": "code",
   "execution_count": 13,
   "id": "bc77109f",
   "metadata": {},
   "outputs": [
    {
     "data": {
      "text/plain": [
       "'ly designed for beginers'"
      ]
     },
     "execution_count": 13,
     "metadata": {},
     "output_type": "execute_result"
    }
   ],
   "source": [
    "str1[-24:]"
   ]
  },
  {
   "cell_type": "code",
   "execution_count": 14,
   "id": "2f646dfe",
   "metadata": {},
   "outputs": [
    {
     "data": {
      "text/plain": [
       "''"
      ]
     },
     "execution_count": 14,
     "metadata": {},
     "output_type": "execute_result"
    }
   ],
   "source": [
    "str1[-24:-32]"
   ]
  },
  {
   "cell_type": "code",
   "execution_count": 15,
   "id": "64a62132",
   "metadata": {},
   "outputs": [
    {
     "data": {
      "text/plain": [
       "'This tutorial is basically designed for beginersThis tutorial is basically designed for beginers'"
      ]
     },
     "execution_count": 15,
     "metadata": {},
     "output_type": "execute_result"
    }
   ],
   "source": [
    "str1*2\n",
    "\n",
    "\n"
   ]
  },
  {
   "cell_type": "code",
   "execution_count": 16,
   "id": "a381b014",
   "metadata": {},
   "outputs": [
    {
     "data": {
      "text/plain": [
       "' '"
      ]
     },
     "execution_count": 16,
     "metadata": {},
     "output_type": "execute_result"
    }
   ],
   "source": [
    "str1[-32]\n",
    "\n"
   ]
  },
  {
   "cell_type": "code",
   "execution_count": 17,
   "id": "93d55661",
   "metadata": {},
   "outputs": [
    {
     "data": {
      "text/plain": [
       "'This tutorial is'"
      ]
     },
     "execution_count": 17,
     "metadata": {},
     "output_type": "execute_result"
    }
   ],
   "source": [
    "str1[:-32]"
   ]
  },
  {
   "cell_type": "code",
   "execution_count": null,
   "id": "cf4301fd",
   "metadata": {},
   "outputs": [],
   "source": []
  },
  {
   "cell_type": "code",
   "execution_count": 18,
   "id": "9093db02",
   "metadata": {},
   "outputs": [
    {
     "data": {
      "text/plain": [
       "str"
      ]
     },
     "execution_count": 18,
     "metadata": {},
     "output_type": "execute_result"
    }
   ],
   "source": [
    "type(str1)\n"
   ]
  },
  {
   "cell_type": "code",
   "execution_count": 19,
   "id": "b7fe97f5",
   "metadata": {},
   "outputs": [
    {
     "name": "stdout",
     "output_type": "stream",
     "text": [
      "True\n"
     ]
    }
   ],
   "source": [
    "print(bool(str1))\n"
   ]
  },
  {
   "cell_type": "code",
   "execution_count": 20,
   "id": "63e84998",
   "metadata": {},
   "outputs": [
    {
     "name": "stdout",
     "output_type": "stream",
     "text": [
      "2596565282288\n",
      "<class 'str'>\n",
      "True\n",
      "and\n",
      " 2596565282288\n",
      "False\n",
      "<class 'str'> <class 'str'>\n",
      "100100100\n",
      "2596597876336\n",
      "False\n",
      "2596597876336\n",
      "False\n"
     ]
    }
   ],
   "source": [
    "var = \"python\"\n",
    "var1 = \"python\"\n",
    "\n",
    "print(id(var))\n",
    "print(type(var1))\n",
    "print(var is var1)\n",
    "print(\"and\\n\",id(var1))\n",
    "print(id(var)is id(var1))\n",
    "\n",
    "var2 = \"100\"\n",
    "var3 = \"100\"\n",
    " \n",
    "print(type(var2),type(var3))\n",
    "print(var2*3)\n",
    "print(id(var2))\n",
    "print(id(var2) is id(var3))\n",
    "print(id(var3))\n",
    "print(id(var3) is id(var2))"
   ]
  },
  {
   "cell_type": "code",
   "execution_count": 21,
   "id": "7da52526",
   "metadata": {},
   "outputs": [
    {
     "name": "stdout",
     "output_type": "stream",
     "text": [
      "True\n",
      "False\n",
      "False\n",
      "2596541655312\n",
      "False\n",
      "False\n",
      "True\n",
      "2596541655344\n"
     ]
    }
   ],
   "source": [
    "var=True\n",
    "var1=True\n",
    "\n",
    "var2=0\n",
    "var3=False\n",
    "\n",
    "var4=1\n",
    "var5=True\n",
    "\n",
    "print(var is var1)\n",
    "print(id(var) is id(var1))\n",
    "print(var2 is var3)\n",
    "print(id(var2))\n",
    "print(id(var2) is id(var3))\n",
    "print(var1 is var2)\n",
    "print(var1 is var5)\n",
    "print(id(var4))"
   ]
  },
  {
   "cell_type": "markdown",
   "id": "368b03da",
   "metadata": {},
   "source": [
    "# Operations on List\n"
   ]
  },
  {
   "cell_type": "code",
   "execution_count": 22,
   "id": "f0ac3424",
   "metadata": {},
   "outputs": [
    {
     "name": "stdout",
     "output_type": "stream",
     "text": [
      "[1, 2, 3, 4, 5, 6]\n",
      "[1, 2, 3, 4, 5, 6, 'a']\n",
      "1\n",
      "[1, 2, 3, 5, 6, 'a']\n",
      "[1, 2, 3, 5, 6, 'a', 1, 2, 3, 5, 6, 'a']\n",
      "5\n",
      "[1, 2, 3, 5, 6, 'a', 1, 2, 9, 3, 5, 6, 'a']\n",
      "2\n",
      "['a', 6, 5, 3, 9, 2, 1, 'a', 6, 5, 3, 1]\n",
      "['a', 6, 5, 3, 9, 2, 1, 'a', 6, 5, 3, 1]\n",
      "['a', 5, 3, 9, 2, 1, 'a', 6, 5, 3, 1]\n",
      "[]\n"
     ]
    }
   ],
   "source": [
    "list1 = [1,2,3,4,5,6]\n",
    "\n",
    "print(list1)\n",
    "list1.append(\"a\")\n",
    "print(list1)\n",
    "\n",
    "s = list1.count(2)\n",
    "print(s)\n",
    "\n",
    "list1.remove(4)\n",
    "print(list1)\n",
    "\n",
    "list1.extend(list1)\n",
    "print(list1)\n",
    "\n",
    "list1.index(5)\n",
    "print(list1.index(\"a\"))\n",
    "\n",
    "c = list1.insert(8,9)\n",
    "print(list1)\n",
    "\n",
    "b = list1.pop(1)\n",
    "print(b)\n",
    "\n",
    "d = list1.reverse()\n",
    "print(list1)\n",
    "\n",
    "e = list1.copy()\n",
    "print(list1)\n",
    "\n",
    "g = list1.remove(6)\n",
    "print(list1)\n",
    "\n",
    "h = list1.clear()\n",
    "print(list1)"
   ]
  },
  {
   "cell_type": "code",
   "execution_count": 23,
   "id": "f2717412",
   "metadata": {},
   "outputs": [
    {
     "name": "stdout",
     "output_type": "stream",
     "text": [
      "['pink', 'red', 'orange', 'yellow', 'white', 'voilet']\n",
      "6\n",
      "['pink', 'red', 'orange', 'yellow', 'white', 'voilet', 'colors']\n",
      "['pink', 'red', 'orange', 'yellow', 'nn', 'white', 'voilet', 'colors']\n",
      "['pink', 'red', 'orange', 'yellow', 'nn', 'white', 'voilet', 'colors']\n",
      "1\n",
      "['pink', 'red', 'orange', 'yellow', 'nn', 'white', 'voilet', 'colors', 'pink', 'red', 'orange', 'yellow', 'nn', 'white', 'voilet', 'colors']\n",
      "2\n",
      "yellow\n",
      "['pink', 'red', 'nn', 'white', 'voilet', 'colors', 'pink', 'red', 'orange', 'yellow', 'nn', 'white', 'voilet', 'colors']\n",
      "['colors', 'voilet', 'white', 'nn', 'yellow', 'orange', 'red', 'pink', 'colors', 'voilet', 'white', 'nn', 'red', 'pink']\n",
      "[]\n"
     ]
    }
   ],
   "source": [
    "list2 = [\"pink\",\"red\",\"orange\",\"yellow\",\"white\",\"voilet\"]\n",
    "\n",
    "print(list2)\n",
    "print(len(list2))\n",
    "\n",
    "list2.append(\"colors\")\n",
    "print(list2)\n",
    "\n",
    "list2.insert(4,'nn')\n",
    "print(list2)\n",
    "\n",
    "list2.copy()\n",
    "print(list2)\n",
    "\n",
    "k = list2.count(\"red\")\n",
    "print(k)\n",
    "\n",
    "list2.extend(list2)\n",
    "print(list2)\n",
    "\n",
    "z = list2.index(\"orange\")\n",
    "print(z)\n",
    "\n",
    "y = list2.pop(3)\n",
    "print(y)\n",
    "\n",
    "list2.remove(\"orange\")\n",
    "print(list2)\n",
    "\n",
    "list2.reverse()\n",
    "print(list2)\n",
    "\n",
    "list2.clear()\n",
    "print(list2)\n"
   ]
  },
  {
   "cell_type": "code",
   "execution_count": 24,
   "id": "e21811fc",
   "metadata": {},
   "outputs": [
    {
     "name": "stdout",
     "output_type": "stream",
     "text": [
      "[11.1, 22.2, 33.3, 44.4, 55.5]\n",
      "5\n",
      "11.1\n",
      " 22.2\n",
      " 33.3\n",
      " 44.4\n",
      " 55.5\n",
      "\n",
      "[11.1, 22.2, 33.3, 44.4, 55.5, 66.6]\n",
      "[11.1, 22.2, 33.3, 44.4, 55.5, 66.6]\n",
      "[11.1, 22.2, 33.3, 44.4, 55.5, 66.6, 11.1, 22.2, 33.3, 44.4, 55.5, 66.6]\n",
      "None\n",
      "2\n",
      "33.3\n",
      "[11.1, 22.2, 44.4, 66.6, 11.1, 22.2, 9, 33.3, 44.4, 55.5, 66.6]\n",
      "[66.6, 55.5, 44.4, 33.3, 9, 22.2, 11.1, 66.6, 44.4, 22.2, 11.1]\n",
      "[]\n"
     ]
    }
   ],
   "source": [
    "list3 = [11.1,22.2,33.3,44.4,55.5]\n",
    "\n",
    "print(list3)\n",
    "print(len(list3))\n",
    "print(\"11.1\\n\",\"22.2\\n\",\"33.3\\n\",\"44.4\\n\",\"55.5\\n\")\n",
    "\n",
    "list3.append(66.6)\n",
    "print(list3)\n",
    "\n",
    "list3.copy()\n",
    "print(list3)\n",
    "\n",
    "list3.count(\"22.2\")\n",
    "\n",
    "list3.extend(list3)\n",
    "print(list3)\n",
    "\n",
    "f = list3.insert(8,9)\n",
    "print(f)\n",
    "\n",
    "g = list3.index(33.3)\n",
    "print(g)\n",
    "\n",
    "h = list3.pop(2)\n",
    "print(h)\n",
    "\n",
    "list3.remove(55.5)\n",
    "print(list3)\n",
    "\n",
    "list3.reverse()\n",
    "print(list3)\n",
    "\n",
    "list3.clear()\n",
    "print(list3)"
   ]
  },
  {
   "cell_type": "code",
   "execution_count": 25,
   "id": "01936dda",
   "metadata": {},
   "outputs": [
    {
     "name": "stdout",
     "output_type": "stream",
     "text": [
      "Help on list object:\n",
      "\n",
      "class list(object)\n",
      " |  list(iterable=(), /)\n",
      " |  \n",
      " |  Built-in mutable sequence.\n",
      " |  \n",
      " |  If no argument is given, the constructor creates a new empty list.\n",
      " |  The argument must be an iterable if specified.\n",
      " |  \n",
      " |  Methods defined here:\n",
      " |  \n",
      " |  __add__(self, value, /)\n",
      " |      Return self+value.\n",
      " |  \n",
      " |  __contains__(self, key, /)\n",
      " |      Return key in self.\n",
      " |  \n",
      " |  __delitem__(self, key, /)\n",
      " |      Delete self[key].\n",
      " |  \n",
      " |  __eq__(self, value, /)\n",
      " |      Return self==value.\n",
      " |  \n",
      " |  __ge__(self, value, /)\n",
      " |      Return self>=value.\n",
      " |  \n",
      " |  __getattribute__(self, name, /)\n",
      " |      Return getattr(self, name).\n",
      " |  \n",
      " |  __getitem__(...)\n",
      " |      x.__getitem__(y) <==> x[y]\n",
      " |  \n",
      " |  __gt__(self, value, /)\n",
      " |      Return self>value.\n",
      " |  \n",
      " |  __iadd__(self, value, /)\n",
      " |      Implement self+=value.\n",
      " |  \n",
      " |  __imul__(self, value, /)\n",
      " |      Implement self*=value.\n",
      " |  \n",
      " |  __init__(self, /, *args, **kwargs)\n",
      " |      Initialize self.  See help(type(self)) for accurate signature.\n",
      " |  \n",
      " |  __iter__(self, /)\n",
      " |      Implement iter(self).\n",
      " |  \n",
      " |  __le__(self, value, /)\n",
      " |      Return self<=value.\n",
      " |  \n",
      " |  __len__(self, /)\n",
      " |      Return len(self).\n",
      " |  \n",
      " |  __lt__(self, value, /)\n",
      " |      Return self<value.\n",
      " |  \n",
      " |  __mul__(self, value, /)\n",
      " |      Return self*value.\n",
      " |  \n",
      " |  __ne__(self, value, /)\n",
      " |      Return self!=value.\n",
      " |  \n",
      " |  __repr__(self, /)\n",
      " |      Return repr(self).\n",
      " |  \n",
      " |  __reversed__(self, /)\n",
      " |      Return a reverse iterator over the list.\n",
      " |  \n",
      " |  __rmul__(self, value, /)\n",
      " |      Return value*self.\n",
      " |  \n",
      " |  __setitem__(self, key, value, /)\n",
      " |      Set self[key] to value.\n",
      " |  \n",
      " |  __sizeof__(self, /)\n",
      " |      Return the size of the list in memory, in bytes.\n",
      " |  \n",
      " |  append(self, object, /)\n",
      " |      Append object to the end of the list.\n",
      " |  \n",
      " |  clear(self, /)\n",
      " |      Remove all items from list.\n",
      " |  \n",
      " |  copy(self, /)\n",
      " |      Return a shallow copy of the list.\n",
      " |  \n",
      " |  count(self, value, /)\n",
      " |      Return number of occurrences of value.\n",
      " |  \n",
      " |  extend(self, iterable, /)\n",
      " |      Extend list by appending elements from the iterable.\n",
      " |  \n",
      " |  index(self, value, start=0, stop=9223372036854775807, /)\n",
      " |      Return first index of value.\n",
      " |      \n",
      " |      Raises ValueError if the value is not present.\n",
      " |  \n",
      " |  insert(self, index, object, /)\n",
      " |      Insert object before index.\n",
      " |  \n",
      " |  pop(self, index=-1, /)\n",
      " |      Remove and return item at index (default last).\n",
      " |      \n",
      " |      Raises IndexError if list is empty or index is out of range.\n",
      " |  \n",
      " |  remove(self, value, /)\n",
      " |      Remove first occurrence of value.\n",
      " |      \n",
      " |      Raises ValueError if the value is not present.\n",
      " |  \n",
      " |  reverse(self, /)\n",
      " |      Reverse *IN PLACE*.\n",
      " |  \n",
      " |  sort(self, /, *, key=None, reverse=False)\n",
      " |      Sort the list in ascending order and return None.\n",
      " |      \n",
      " |      The sort is in-place (i.e. the list itself is modified) and stable (i.e. the\n",
      " |      order of two equal elements is maintained).\n",
      " |      \n",
      " |      If a key function is given, apply it once to each list item and sort them,\n",
      " |      ascending or descending, according to their function values.\n",
      " |      \n",
      " |      The reverse flag can be set to sort in descending order.\n",
      " |  \n",
      " |  ----------------------------------------------------------------------\n",
      " |  Class methods defined here:\n",
      " |  \n",
      " |  __class_getitem__(...) from builtins.type\n",
      " |      See PEP 585\n",
      " |  \n",
      " |  ----------------------------------------------------------------------\n",
      " |  Static methods defined here:\n",
      " |  \n",
      " |  __new__(*args, **kwargs) from builtins.type\n",
      " |      Create and return a new object.  See help(type) for accurate signature.\n",
      " |  \n",
      " |  ----------------------------------------------------------------------\n",
      " |  Data and other attributes defined here:\n",
      " |  \n",
      " |  __hash__ = None\n",
      "\n"
     ]
    }
   ],
   "source": [
    "list5 = [1,22,333,4444]\n",
    "help(list5)\n",
    "\n"
   ]
  },
  {
   "cell_type": "code",
   "execution_count": 26,
   "id": "46cda2bb",
   "metadata": {},
   "outputs": [
    {
     "name": "stdout",
     "output_type": "stream",
     "text": [
      "float to string:\n",
      "100.23\n",
      "<class 'float'>\n",
      "100.23\n",
      "<class 'str'>\n",
      "int to string:\n",
      "20\n",
      "<class 'int'>\n",
      "20\n",
      "<class 'str'>\n",
      "Complex to string:\n",
      "(2+4j)\n",
      "<class 'complex'>\n",
      "(2+4j)\n",
      "<class 'str'>\n"
     ]
    }
   ],
   "source": [
    "var = 100.23\n",
    "var1 = 20\n",
    "comp = 2+4j\n",
    "print(\"float to string:\")\n",
    "print(var)\n",
    "print(type(var))\n",
    "var3 = str(var)\n",
    "print(var3)\n",
    "print(type(var3))\n",
    "\n",
    "print(\"int to string:\")\n",
    "print(var1)\n",
    "print(type(var1))\n",
    "var4 = str(var1)\n",
    "print(var4)\n",
    "print(type(var4))\n",
    "\n",
    "print(\"Complex to string:\")\n",
    "print(comp)\n",
    "print(type(comp))\n",
    "var5 = str(comp)\n",
    "print(var5)\n",
    "print(type(var5))"
   ]
  },
  {
   "cell_type": "markdown",
   "id": "0a7bcff9",
   "metadata": {},
   "source": [
    "# Change tuple value using List\n"
   ]
  },
  {
   "cell_type": "code",
   "execution_count": 27,
   "id": "eb253324",
   "metadata": {},
   "outputs": [
    {
     "name": "stdout",
     "output_type": "stream",
     "text": [
      "('red', 'orange', 'white', 'yellow', 'pink')\n",
      "1\n",
      "2\n"
     ]
    }
   ],
   "source": [
    "tup=(\"red\",\"orange\",\"white\",\"yellow\",\"pink\")\n",
    "\n",
    "print(tup)\n",
    "print(tup.count(\"red\"))\n",
    "print(tup.index(\"white\"))"
   ]
  },
  {
   "cell_type": "code",
   "execution_count": 28,
   "id": "206feda9",
   "metadata": {},
   "outputs": [
    {
     "name": "stdout",
     "output_type": "stream",
     "text": [
      "('red', 'orange', 'white', 'yellow', 1, 2, 3, 4, 5)\n"
     ]
    }
   ],
   "source": [
    "#tuple Concat\n",
    "tup=('red','orange','white','yellow')\n",
    "tup1=(1,2,3,4,5)\n",
    "\n",
    "print(tup+tup1)"
   ]
  },
  {
   "cell_type": "code",
   "execution_count": 29,
   "id": "3a871003",
   "metadata": {},
   "outputs": [
    {
     "name": "stdout",
     "output_type": "stream",
     "text": [
      "('red', 'orange', 'colors', 'white', 'yellow')\n",
      "<class 'tuple'>\n",
      "<class 'list'>\n",
      "['colors', 'red', 'orange', 'colors', 'white', 'yellow']\n",
      "<class 'list'>\n",
      "<class 'tuple'>\n",
      "('colors', 'red', 'orange', 'colors', 'white', 'yellow')\n"
     ]
    }
   ],
   "source": [
    "#conversion of Tuple into List & veceversa\n",
    "\n",
    "tup=('red','orange','colors','white','yellow')\n",
    "\n",
    "print(tup)\n",
    "print(type(tup))\n",
    "a = list(tup)\n",
    "print(type(a))\n",
    "a.insert(0,'colors')\n",
    "print(a)\n",
    "\n",
    "print(type(a))\n",
    "b = tuple(a)\n",
    "print(type(b))\n",
    "print(b)"
   ]
  },
  {
   "cell_type": "code",
   "execution_count": 30,
   "id": "57cb2ce7",
   "metadata": {},
   "outputs": [
    {
     "name": "stdout",
     "output_type": "stream",
     "text": [
      "('red', 'orange', 'colors', 'white')\n",
      "<class 'tuple'>\n",
      "<class 'list'>\n",
      "['red', 'orange', 'white']\n",
      "<class 'list'>\n",
      "('red', 'orange', 'white')\n",
      "<class 'tuple'>\n"
     ]
    }
   ],
   "source": [
    "tup=('red','orange','colors','white')\n",
    "\n",
    "print(tup)\n",
    "print(type(tup))\n",
    "\n",
    "a = list(tup)\n",
    "print(type(a))\n",
    "a.remove('colors')\n",
    "print(a)\n",
    "\n",
    "print(type(a))\n",
    "\n",
    "b = tuple(a)\n",
    "print(b)\n",
    "print(type(b))"
   ]
  },
  {
   "cell_type": "code",
   "execution_count": 32,
   "id": "0269b28f",
   "metadata": {},
   "outputs": [
    {
     "name": "stdout",
     "output_type": "stream",
     "text": [
      "['fixed', 'vehicles', 'propertiese']\n",
      "land\n",
      "goodwill\n",
      "<class 'tuple'>\n"
     ]
    }
   ],
   "source": [
    "# Use of Astrisk\n",
    "\n",
    "assets = (\"fixed\",\"vehicles\",\"propertiese\",\"land\",\"goodwill\")\n",
    "\n",
    "(*current,land,goodwill) = assets\n",
    "\n",
    "print(current)\n",
    "print(land)\n",
    "print(goodwill)\n",
    "print(type(assets))\n",
    "\n",
    "del assets"
   ]
  },
  {
   "cell_type": "code",
   "execution_count": 48,
   "id": "c7dcc602",
   "metadata": {},
   "outputs": [
    {
     "name": "stdout",
     "output_type": "stream",
     "text": [
      "output:\n",
      "10\n",
      "<class 'int'>\n",
      "output:\n",
      "(3+5j)\n",
      "<class 'complex'>\n",
      "Printing Real and Imaginary part of var\n",
      "3.0\n",
      "5.0\n",
      "<class 'complex'>\n",
      "<class 'bool'>\n",
      "True\n",
      "True\n",
      "<class 'int'>\n",
      "True\n"
     ]
    }
   ],
   "source": [
    "# Self Study\n",
    "var = 10\n",
    "print(\"output:\")\n",
    "print(var)\n",
    "print(type(var))\n",
    "\n",
    "var = 3+5j\n",
    "print(\"output:\")\n",
    "print(var)\n",
    "print(type(var))\n",
    "print(\"Printing Real and Imaginary part of var\")\n",
    "print(var.real)\n",
    "print(var.imag)\n",
    "print(type(var))\n",
    "\n",
    "var = True\n",
    "print(type(var))\n",
    "print(bool(var))\n",
    "\n",
    "var = 1\n",
    "print(bool(var))\n",
    "print(type(var))\n",
    "\n",
    "var = \"python\"\n",
    "print(bool(var))\n",
    "\n"
   ]
  },
  {
   "cell_type": "code",
   "execution_count": 56,
   "id": "40f99288",
   "metadata": {},
   "outputs": [
    {
     "name": "stdout",
     "output_type": "stream",
     "text": [
      "Tally\n",
      "100\n",
      "ERP9\n",
      "<class 'str'> <class 'int'> <class 'str'>\n",
      "TallyERP9\n"
     ]
    }
   ],
   "source": [
    "# Typecasting\n",
    "## int/string to float conversion\n",
    "\n",
    "str1 = \"Tally\"\n",
    "var = 100\n",
    "str2 = \"ERP9\"\n",
    "\n",
    "print(str1)\n",
    "print(var)\n",
    "print(str2)\n",
    "print(type(str1),type(var),type(str2))\n",
    "print(str1+str2)"
   ]
  },
  {
   "cell_type": "code",
   "execution_count": null,
   "id": "6e81a015",
   "metadata": {},
   "outputs": [],
   "source": [
    "list."
   ]
  }
 ],
 "metadata": {
  "kernelspec": {
   "display_name": "Python 3 (ipykernel)",
   "language": "python",
   "name": "python3"
  },
  "language_info": {
   "codemirror_mode": {
    "name": "ipython",
    "version": 3
   },
   "file_extension": ".py",
   "mimetype": "text/x-python",
   "name": "python",
   "nbconvert_exporter": "python",
   "pygments_lexer": "ipython3",
   "version": "3.9.7"
  }
 },
 "nbformat": 4,
 "nbformat_minor": 5
}
