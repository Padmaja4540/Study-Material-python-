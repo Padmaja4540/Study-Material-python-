{
 "cells": [
  {
   "cell_type": "markdown",
   "id": "36fd98fc",
   "metadata": {},
   "source": [
    "# Study Work as on 13.10.2021"
   ]
  },
  {
   "cell_type": "markdown",
   "id": "386babd7",
   "metadata": {},
   "source": [
    "#Set\n"
   ]
  },
  {
   "cell_type": "code",
   "execution_count": 2,
   "id": "9de6956f",
   "metadata": {},
   "outputs": [
    {
     "name": "stdout",
     "output_type": "stream",
     "text": [
      "{0, 1, 'loss', 2, 3, 'gain', 'profit'}\n",
      "<class 'set'>\n",
      "7\n"
     ]
    }
   ],
   "source": [
    "a = {'profit','loss','gain',0,1,2,3}\n",
    "\n",
    "print(a)\n",
    "print(type(a))\n",
    "print(len(a))"
   ]
  },
  {
   "cell_type": "code",
   "execution_count": 4,
   "id": "5fdf9261",
   "metadata": {},
   "outputs": [
    {
     "name": "stdout",
     "output_type": "stream",
     "text": [
      "{'pro', 'loss', 'exp', 'inc'}\n",
      "<class 'set'>\n"
     ]
    }
   ],
   "source": [
    "b = set(('inc','exp','pro','loss'))\n",
    "\n",
    "print(b)\n",
    "print(type(b))"
   ]
  },
  {
   "cell_type": "code",
   "execution_count": 7,
   "id": "a9479709",
   "metadata": {},
   "outputs": [
    {
     "name": "stdout",
     "output_type": "stream",
     "text": [
      "False\n",
      "True\n"
     ]
    }
   ],
   "source": [
    "c = \"assets\" in b\n",
    "\n",
    "print(c)\n",
    "print (\"inc\" in b)"
   ]
  },
  {
   "cell_type": "code",
   "execution_count": 9,
   "id": "dd91de86",
   "metadata": {},
   "outputs": [
    {
     "name": "stdout",
     "output_type": "stream",
     "text": [
      "{'pro', 'loss', 'exp', 'inc'}\n",
      "{'loss', 'exp', 'inc', 'pro', 'liabilities'}\n"
     ]
    }
   ],
   "source": [
    "print(set(b))\n",
    "\n",
    "b.add('liabilities')\n",
    "print(b)"
   ]
  },
  {
   "cell_type": "code",
   "execution_count": null,
   "id": "150489ad",
   "metadata": {},
   "outputs": [],
   "source": []
  }
 ],
 "metadata": {
  "kernelspec": {
   "display_name": "Python 3 (ipykernel)",
   "language": "python",
   "name": "python3"
  },
  "language_info": {
   "codemirror_mode": {
    "name": "ipython",
    "version": 3
   },
   "file_extension": ".py",
   "mimetype": "text/x-python",
   "name": "python",
   "nbconvert_exporter": "python",
   "pygments_lexer": "ipython3",
   "version": "3.9.7"
  }
 },
 "nbformat": 4,
 "nbformat_minor": 5
}
